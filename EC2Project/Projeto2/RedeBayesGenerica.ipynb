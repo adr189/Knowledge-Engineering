{
 "cells": [
  {
   "cell_type": "markdown",
   "metadata": {},
   "source": [
    "# Engenharia de Conhecimento 21/22\n",
    "\n",
    "## Rede de Bayes (genérica) em python\n",
    "\n",
    "\n",
    "<img src=\"files/imagens/Figura-1-Exemplo-de-Rede-Bayesiana-Mili-an-et-al-2010.png\" alt=\"Drawing\" style=\"width: 500px;\"/> "
   ]
  },
  {
   "cell_type": "markdown",
   "metadata": {},
   "source": [
    "Comecemos por importar os ficheiros importantes"
   ]
  },
  {
   "cell_type": "code",
   "execution_count": 1,
   "metadata": {},
   "outputs": [],
   "source": [
    "from probabilityPlus import *\n",
    "from prettytable import *\n",
    "from utils import print_table"
   ]
  },
  {
   "cell_type": "markdown",
   "metadata": {},
   "source": [
    "### Rede de Bayes genérica em Python"
   ]
  },
  {
   "cell_type": "markdown",
   "metadata": {},
   "source": [
    "Vamos redefinir os nós da rede com base na classe `BayesNode`, mas em que mantemos a ideia que se colocarmos apenas um valor é o valor do `True`, derivamos o `False` através de $P(X=False)=1-P(X=True)$. Podemos no entanto ter variáveis não booleanas e construir distribuições de probabilidade para os casos não booleanos.\n",
    "Criamos assim a classe `NoBayes`."
   ]
  },
  {
   "cell_type": "code",
   "execution_count": 2,
   "metadata": {},
   "outputs": [],
   "source": [
    "class NoBayes:\n",
    "    \"\"\"A conditional probability distribution for a boolean variable,\n",
    "    P(X | parents). Part of a BayesNet.\"\"\"\n",
    "\n",
    "    def __init__(self, X, parents, cpt):\n",
    "        \"\"\"X is a variable name, \n",
    "          and parents a sequence of variable names or a space-separated string. \n",
    "          cpt, the conditional probability table, takes one of these forms:\n",
    "\n",
    "        * A number, the unconditional probability P(X=true). You can\n",
    "          use this form when there are no parents.\n",
    "\n",
    "        * A dict {v: p, ...}, the conditional probability distribution\n",
    "          P(X=true | parent=v) = p. When there's just one parent.\n",
    "          p is a number int or floar or a probability distributions in a dictionary\n",
    "\n",
    "        * A dict {(v1, v2, ...): p, ...}, the distribution P(X=true |\n",
    "          parent1=v1, parent2=v2, ...) = p. Each key must have as many\n",
    "          values as there are parents. You can use this form always;\n",
    "          the first two are just conveniences.\n",
    "          p is a number int or float or a probability distributions in a dictionary\n",
    "\n",
    "        In all boolean cases the probability of X being false is left implicit,\n",
    "        since it follows from P(X=true).\n",
    "\n",
    "        >>> X = BayesNode('X', '', 0.2)\n",
    "        >>> Y = BayesNode('Y', 'P', {T: 0.2, F: 0.7})\n",
    "        >>> Z = BayesNode('Z', 'P Q',\n",
    "        ...    {(T, T): 0.2, (T, F): 0.3, (F, T): 0.5, (F, F): 0.7})\n",
    "         but it might also be non-boolean and we pass a probability distribution instead of a value\n",
    "        >>> X = BayesNode('X', '', {'a':12,'b':34,'c':30})\n",
    "        >>> Y = BayesNode('Y', 'P', {T: {'a':12,'b':4,'c':3}, F: {'a':120,'b':34,'c':300}})\n",
    "        >>> Z = BayesNode('Z', 'P Q',\n",
    "        ...    {(T, T): 0.2, (T, F): 0.3, (F, T): 0.5, (F, F): 0.7})\n",
    "         \n",
    "        \n",
    "        \n",
    "        \"\"\"\n",
    "\n",
    "        \n",
    "        \n",
    "        if isinstance(parents, str):\n",
    "            parents = parents.split()\n",
    "        #print(parents)\n",
    "        if parents==[]:\n",
    "            # We store the table always in the third form above.\n",
    "            if isinstance(cpt, (float, int)):  # no parents, 0-tuple, Boolean \n",
    "                cpt = {(): cpt}\n",
    "            elif isinstance(cpt,dict):\n",
    "                cpt = {():ProbDist(freq=cpt)}  # no parents, 0-tuple, non-boolean\n",
    "        elif len(parents) == 1 and isinstance(cpt, dict):\n",
    "            if not isinstance(list(cpt.keys())[0],tuple):\n",
    "                cpt = {(v,): self.trata(pr) for v, pr in cpt.items()}\n",
    "        else:\n",
    "            cpt = {v: self.trata(pr) for v, pr in cpt.items()}\n",
    "        #assert isinstance(cpt, dict)\n",
    "        #for vs, p in cpt.items():\n",
    "        #    print('uiui:',vs)\n",
    "        #    assert isinstance(vs, tuple) and len(vs) == len(parents)\n",
    "        #    assert all(isinstance(v, bool) for v in vs)\n",
    "        #    assert 0 <= p <= 1\n",
    "\n",
    "        self.variable = X\n",
    "        self.parents = parents\n",
    "        self.cpt = cpt\n",
    "        vals=list(cpt.values())[0]\n",
    "        #print('Os vals:',vals)\n",
    "        if isinstance(vals,(float,int)):\n",
    "            self.domain = [True,False]\n",
    "        else:\n",
    "            self.domain = list(vals.prob.keys())\n",
    "        self.children = []\n",
    "        \n",
    "    def trata(self,p):\n",
    "        if isinstance(p,(float,int)):\n",
    "            return p\n",
    "        else:\n",
    "            return ProbDist(freq=p)\n",
    "\n",
    "    def p(self, value, event):\n",
    "        \"\"\"Return the conditional probability\n",
    "        P(X=value | parents=parent_values), where parent_values\n",
    "        are the values of parents in event. (event must assign each\n",
    "        parent a value.)\n",
    "        >>> bn = BayesNode('X', 'Burglary', {T: 0.2, F: 0.625})\n",
    "        >>> bn.p(False, {'Burglary': False, 'Earthquake': True})\n",
    "        0.375\n",
    "        \"\"\"\n",
    "        if isinstance(value, bool):\n",
    "            ptrue = self.cpt[event_values(event, self.parents)]\n",
    "            return ptrue if value else 1 - ptrue\n",
    "        else:\n",
    "            return self.cpt[event_values(event, self.parents)].prob[value]\n",
    "\n",
    "    def sample(self, event):\n",
    "        \"\"\"Sample from the distribution for this variable conditioned\n",
    "        on event's values for parent_variables. That is, return True/False\n",
    "        at random according with the conditional probability given the\n",
    "        parents.\"\"\"\n",
    "        return probability(self.p(True, event))\n",
    "\n",
    "    def __repr__(self):\n",
    "        return repr((self.variable, ' '.join(self.parents)))"
   ]
  },
  {
   "cell_type": "markdown",
   "metadata": {},
   "source": [
    "Vamos alterar ligeiramente a classe `BayesNet`, a que chamaremos de `RedeBayes`."
   ]
  },
  {
   "cell_type": "code",
   "execution_count": 3,
   "metadata": {},
   "outputs": [],
   "source": [
    "class RedeBayes:\n",
    "    \"\"\"Bayesian network containing only boolean-variable nodes.\"\"\"\n",
    "\n",
    "    def __init__(self, node_specs=None):\n",
    "        \"\"\"Nodes must be ordered with parents before children.\"\"\"\n",
    "        self.nodes = []\n",
    "        self.variables = []\n",
    "        node_specs = node_specs or []\n",
    "        for node_spec in node_specs:\n",
    "            self.add(node_spec)\n",
    "\n",
    "    def add(self, node_spec):\n",
    "        \"\"\"Add a node to the net. Its parents must already be in the\n",
    "        net, and its variable must not.\"\"\"\n",
    "        node = NoBayes(*node_spec)\n",
    "        assert node.variable not in self.variables\n",
    "        assert all((parent in self.variables) for parent in node.parents)\n",
    "        self.nodes.append(node)\n",
    "        self.variables.append(node.variable)\n",
    "        for parent in node.parents:\n",
    "            self.variable_node(parent).children.append(node.variable)\n",
    "\n",
    "    def variable_node(self, var):\n",
    "        \"\"\"Return the node for the variable named var.\n",
    "        >>> burglary.variable_node('Burglary').variable\n",
    "        'Burglary'\"\"\"\n",
    "        for n in self.nodes:\n",
    "            if n.variable == var:\n",
    "                return n\n",
    "        raise Exception(\"No such variable: {}\".format(var))\n",
    "\n",
    "    def variable_values(self, var):\n",
    "        \"\"\"Return the domain of var. change this please\"\"\"\n",
    "        node=self.variable_node(var)\n",
    "        return node.domain\n",
    "\n",
    "    def __repr__(self):\n",
    "        return 'BayesNet({0!r})'.format(self.nodes)"
   ]
  },
  {
   "cell_type": "markdown",
   "metadata": {},
   "source": [
    "#### Exemplo de teste da variação do exemplo standard Burglary\n",
    "Para testar já as novas classes, vamos modelizar de um modo diferente o exemplo standard do assalto, em que consideramos que a variável `Earthquake` deixa de ser booleana (há ou não terramoto) e passa a ter 3 nuances: `strong`, `light` e `none`."
   ]
  },
  {
   "cell_type": "code",
   "execution_count": 4,
   "metadata": {},
   "outputs": [
    {
     "data": {
      "text/plain": [
       "BayesNet([('Burglary', ''), ('Earthquake', ''), ('Alarm', 'Burglary Earthquake'), ('JohnCalls', 'Alarm'), ('MaryCalls', 'Alarm')])"
      ]
     },
     "execution_count": 4,
     "metadata": {},
     "output_type": "execute_result"
    }
   ],
   "source": [
    "T, F = True, False\n",
    "\n",
    "rb_burglary = RedeBayes([\n",
    "    ('Burglary', '', 0.001),\n",
    "    ('Earthquake', '', {\"strong\":1,\"light\":10,\"none\":89 }),\n",
    "    ('Alarm', 'Burglary Earthquake',\n",
    "          {(T, 'strong'): 0.95, (T, 'light'): 0.80, (T, 'none'): 0.76, (F, 'strong'): 0.8, (F, 'light'): 0.3, (F, 'none'): 0.001}),\n",
    "    ('JohnCalls', 'Alarm', {T: 0.90, F: 0.05}),\n",
    "    ('MaryCalls', 'Alarm', {T: 0.70, F: 0.01})\n",
    "])\n",
    "rb_burglary"
   ]
  },
  {
   "cell_type": "markdown",
   "metadata": {},
   "source": [
    "Vamos então aceder à tabela de probabilidade condicional para a variável `Earthquake`. É uma variável sem pais com 3 valores: strong, light and none."
   ]
  },
  {
   "cell_type": "code",
   "execution_count": 5,
   "metadata": {},
   "outputs": [
    {
     "data": {
      "text/plain": [
       "{'strong': 0.01, 'light': 0.1, 'none': 0.89}"
      ]
     },
     "execution_count": 5,
     "metadata": {},
     "output_type": "execute_result"
    }
   ],
   "source": [
    "rb_burglary.variable_node('Earthquake').cpt[()].prob"
   ]
  },
  {
   "cell_type": "markdown",
   "metadata": {},
   "source": [
    "Acedamos a $P(Earthquake=light)$"
   ]
  },
  {
   "cell_type": "code",
   "execution_count": 6,
   "metadata": {},
   "outputs": [
    {
     "data": {
      "text/plain": [
       "0.1"
      ]
     },
     "execution_count": 6,
     "metadata": {},
     "output_type": "execute_result"
    }
   ],
   "source": [
    "rb_burglary.variable_node('Earthquake').p('light',{})"
   ]
  },
  {
   "cell_type": "markdown",
   "metadata": {},
   "source": [
    "Vamos aceder à probabilidade $P(Alarm=true)|Earthquake=none,Burglary=true)$"
   ]
  },
  {
   "cell_type": "code",
   "execution_count": 7,
   "metadata": {},
   "outputs": [
    {
     "data": {
      "text/plain": [
       "0.76"
      ]
     },
     "execution_count": 7,
     "metadata": {},
     "output_type": "execute_result"
    }
   ],
   "source": [
    "rb_burglary.variable_node('Alarm').p(T,{'Earthquake':'none','Burglary':T})"
   ]
  },
  {
   "cell_type": "markdown",
   "metadata": {},
   "source": [
    "Eis uma função para mostrar a tabela de probabilidade conjunta."
   ]
  },
  {
   "cell_type": "code",
   "execution_count": 8,
   "metadata": {},
   "outputs": [],
   "source": [
    "# Função retirada da PL5\n",
    "def display(j):\n",
    "    \"\"\"\n",
    "    Pretty display of joint distribution\n",
    "    \"\"\"\n",
    "    pretty=PrettyTable()\n",
    "    aux = j.variables.copy()\n",
    "    aux.append('Prob')\n",
    "    pretty.field_names = aux \n",
    "    for i in list(j.prob.keys()):\n",
    "        pretty.add_row(i+(j[i],))\n",
    "    print(pretty)"
   ]
  },
  {
   "cell_type": "markdown",
   "metadata": {},
   "source": [
    "Afunção joint_distribution devolve a conjunta correspondente a uma Rede de Bayes de input. Vamos gerar a conjunta de burglary e depois façamos o seu display."
   ]
  },
  {
   "cell_type": "code",
   "execution_count": 9,
   "metadata": {},
   "outputs": [
    {
     "name": "stdout",
     "output_type": "stream",
     "text": [
      "+----------+------------+-------+-----------+-----------+------------------------+\n",
      "| Burglary | Earthquake | Alarm | JohnCalls | MaryCalls |          Prob          |\n",
      "+----------+------------+-------+-----------+-----------+------------------------+\n",
      "|   True   |   strong   |  True |    True   |    True   |       5.985e-06        |\n",
      "|   True   |   strong   |  True |    True   |   False   | 2.565000000000001e-06  |\n",
      "|   True   |   strong   |  True |   False   |    True   | 6.649999999999998e-07  |\n",
      "|   True   |   strong   |  True |   False   |   False   | 2.8499999999999997e-07 |\n",
      "|   True   |   strong   | False |    True   |    True   | 2.5000000000000027e-10 |\n",
      "|   True   |   strong   | False |    True   |   False   | 2.4750000000000026e-08 |\n",
      "|   True   |   strong   | False |   False   |    True   | 4.750000000000005e-09  |\n",
      "|   True   |   strong   | False |   False   |   False   | 4.702500000000005e-07  |\n",
      "|   True   |   light    |  True |    True   |    True   |        5.04e-05        |\n",
      "|   True   |   light    |  True |    True   |   False   | 2.1600000000000003e-05 |\n",
      "|   True   |   light    |  True |   False   |    True   |        5.6e-06         |\n",
      "|   True   |   light    |  True |   False   |   False   | 2.4000000000000003e-06 |\n",
      "|   True   |   light    | False |    True   |    True   | 9.999999999999997e-09  |\n",
      "|   True   |   light    | False |    True   |   False   | 9.899999999999998e-07  |\n",
      "|   True   |   light    | False |   False   |    True   | 1.8999999999999995e-07 |\n",
      "|   True   |   light    | False |   False   |   False   | 1.8809999999999994e-05 |\n",
      "|   True   |    none    |  True |    True   |    True   |      0.000426132       |\n",
      "|   True   |    none    |  True |    True   |   False   | 0.00018262800000000005 |\n",
      "|   True   |    none    |  True |   False   |    True   | 4.7347999999999995e-05 |\n",
      "|   True   |    none    |  True |   False   |   False   |       2.0292e-05       |\n",
      "|   True   |    none    | False |    True   |    True   | 1.0680000000000002e-07 |\n",
      "|   True   |    none    | False |    True   |   False   |      1.05732e-05       |\n",
      "|   True   |    none    | False |   False   |    True   |       2.0292e-06       |\n",
      "|   True   |    none    | False |   False   |   False   |      0.0002008908      |\n",
      "|  False   |   strong   |  True |    True   |    True   |  0.005034960000000001  |\n",
      "|  False   |   strong   |  True |    True   |   False   | 0.0021578400000000007  |\n",
      "|  False   |   strong   |  True |   False   |    True   | 0.0005594399999999999  |\n",
      "|  False   |   strong   |  True |   False   |   False   | 0.00023976000000000002 |\n",
      "|  False   |   strong   | False |    True   |    True   | 9.989999999999999e-07  |\n",
      "|  False   |   strong   | False |    True   |   False   |       9.8901e-05       |\n",
      "|  False   |   strong   | False |   False   |    True   | 1.8980999999999997e-05 |\n",
      "|  False   |   strong   | False |   False   |   False   | 0.0018791189999999998  |\n",
      "|  False   |   light    |  True |    True   |    True   |  0.018881099999999998  |\n",
      "|  False   |   light    |  True |    True   |   False   |       0.0080919        |\n",
      "|  False   |   light    |  True |   False   |    True   | 0.0020978999999999993  |\n",
      "|  False   |   light    |  True |   False   |   False   | 0.0008990999999999999  |\n",
      "|  False   |   light    | False |    True   |    True   | 3.4964999999999995e-05 |\n",
      "|  False   |   light    | False |    True   |   False   | 0.0034615349999999995  |\n",
      "|  False   |   light    | False |   False   |    True   |      0.000664335       |\n",
      "|  False   |   light    | False |   False   |   False   |  0.06576916499999999   |\n",
      "|  False   |    none    |  True |    True   |    True   | 0.0005601393000000001  |\n",
      "|  False   |    none    |  True |    True   |   False   | 0.0002400597000000001  |\n",
      "|  False   |    none    |  True |   False   |    True   | 6.223769999999999e-05  |\n",
      "|  False   |    none    |  True |   False   |   False   |      2.66733e-05       |\n",
      "|  False   |    none    | False |    True   |    True   | 0.00044411044500000007 |\n",
      "|  False   |    none    | False |    True   |   False   |  0.043966934055000004  |\n",
      "|  False   |    none    | False |   False   |    True   |  0.008438098455000001  |\n",
      "|  False   |    none    | False |   False   |   False   |   0.8353717470450001   |\n",
      "+----------+------------+-------+-----------+-----------+------------------------+\n"
     ]
    }
   ],
   "source": [
    "#joint_distribution(burglary)\n",
    "joint_burglary = joint_distribution(rb_burglary)\n",
    "display(joint_burglary)"
   ]
  },
  {
   "cell_type": "markdown",
   "metadata": {},
   "source": [
    "#### Exemplo de teste 2, o exemplo da Gripe\n",
    "Sabemos que a probabilidade a priori de uma pessoa estar vacinada é de 1 em 1000.\n",
    "Sabemos também que a probabilidade de uma pessoa apanhar gripe quando está vacinada (2 em 1000) é 10 vezes menor do que quando não está vacinada. \n",
    "Por outro lado, sabemos que se uma pessoa tiver gripe as brobabilidades de não ter febere nenhuma, de ter febre moderada e de ter febre elevada são respectivamente de 25%, 25% e 50%. Mas se não tiver gripe os valores serão respectivamente de: 97%, 2% e 1%."
   ]
  },
  {
   "cell_type": "markdown",
   "metadata": {},
   "source": [
    "Construamos a Rede de Bayes que corresponde a este domínio sabendo que teremos 4 variáveis:\n",
    "\n",
    "Vacinada: uma pessoa está ou não vacinada - com domíno {true,false}.\n",
    "Gripe: uma pessoa sofre ou não de gripe - com domíno {true,false}.\n",
    "Febre: uma pessoa está sem febre, com febre moderada ou febre elevada - com domíno {não,moderada,elevada}.\n",
    "DoresCabeca: uma pessoa tem ou não dores de cabeça - com domíno {true,false}."
   ]
  },
  {
   "cell_type": "code",
   "execution_count": 10,
   "metadata": {},
   "outputs": [],
   "source": [
    "rb_gripe = RedeBayes([\n",
    "            ('Vacinada', '', 0.001),\n",
    "            ('Gripe', 'Vacinada', {T: 0.002, F: 0.02}),\n",
    "            ('Febre', 'Gripe', {T:{'não':25, 'moderada':25, 'elevada':50},F:{'não':97, 'moderada':2,  'elevada':1}}),\n",
    "            ('DoresCabeca', 'Gripe', {T: 0.5,   F: 0.03})])"
   ]
  },
  {
   "cell_type": "markdown",
   "metadata": {},
   "source": [
    "Vamos ler o valor de $P(DoresCabeca=true)$:"
   ]
  },
  {
   "cell_type": "code",
   "execution_count": 11,
   "metadata": {},
   "outputs": [
    {
     "data": {
      "text/plain": [
       "{(True,): 0.5, (False,): 0.03}"
      ]
     },
     "execution_count": 11,
     "metadata": {},
     "output_type": "execute_result"
    }
   ],
   "source": [
    "rb_gripe.variable_node('DoresCabeca').cpt"
   ]
  },
  {
   "cell_type": "markdown",
   "metadata": {},
   "source": [
    "Vamos ler o valor de $P(Febre=elevada|Gripe=true)$:"
   ]
  },
  {
   "cell_type": "code",
   "execution_count": 12,
   "metadata": {},
   "outputs": [
    {
     "data": {
      "text/plain": [
       "0.5"
      ]
     },
     "execution_count": 12,
     "metadata": {},
     "output_type": "execute_result"
    }
   ],
   "source": [
    "rb_gripe.variable_node('Febre').p('elevada',{'Gripe':T})"
   ]
  },
  {
   "cell_type": "markdown",
   "metadata": {},
   "source": [
    "E também o valor de $P(Vacinada=true)$:"
   ]
  },
  {
   "cell_type": "code",
   "execution_count": 13,
   "metadata": {},
   "outputs": [
    {
     "data": {
      "text/plain": [
       "[True, False]"
      ]
     },
     "execution_count": 13,
     "metadata": {},
     "output_type": "execute_result"
    }
   ],
   "source": [
    "rb_gripe.variable_node('Vacinada').domain"
   ]
  },
  {
   "cell_type": "markdown",
   "metadata": {},
   "source": [
    "Eis uma função para fazer o display de uma cpt (conditional probability table, in english):"
   ]
  },
  {
   "cell_type": "code",
   "execution_count": 14,
   "metadata": {},
   "outputs": [],
   "source": [
    "def display_cpt(node):\n",
    "    header='P(' + node.variable + '|' + ','.join(node.parents) +'):'\n",
    "    print(header)\n",
    "    pretty=PrettyTable()\n",
    "    aux = node.parents.copy()\n",
    "    aux.append(node.variable)\n",
    "    aux.append(\"Prob\")\n",
    "    pretty.field_names = aux \n",
    "    #print(pretty.field_names)   # when it is boolean\n",
    "    if node.domain==[True,False]:\n",
    "        for i in list(node.cpt.keys()):\n",
    "            #print(i)\n",
    "            pretty.add_row(i+('True',)+(str(node.cpt[i]),))\n",
    "            pretty.add_row(i+('False',)+(str(1-node.cpt[i]),))\n",
    "        print(pretty)\n",
    "    else:\n",
    "        for i in list(node.cpt.keys()):\n",
    "            for j in node.domain:\n",
    "                pretty.add_row(i+(j,)+(str(node.cpt[i].prob[j]),))\n",
    "\n",
    "        print(pretty)"
   ]
  },
  {
   "cell_type": "markdown",
   "metadata": {},
   "source": [
    "Façamos o display da cpt associada à variável Febre, i.e. $P(Febre|Gripe)$:"
   ]
  },
  {
   "cell_type": "code",
   "execution_count": 15,
   "metadata": {},
   "outputs": [
    {
     "name": "stdout",
     "output_type": "stream",
     "text": [
      "P(Febre|Gripe):\n",
      "+-------+----------+------+\n",
      "| Gripe |  Febre   | Prob |\n",
      "+-------+----------+------+\n",
      "|  True |   não    | 0.25 |\n",
      "|  True | moderada | 0.25 |\n",
      "|  True | elevada  | 0.5  |\n",
      "| False |   não    | 0.97 |\n",
      "| False | moderada | 0.02 |\n",
      "| False | elevada  | 0.01 |\n",
      "+-------+----------+------+\n"
     ]
    }
   ],
   "source": [
    "display_cpt(rb_gripe.variable_node('Febre'))"
   ]
  },
  {
   "cell_type": "markdown",
   "metadata": {},
   "source": [
    "E agora apresentemos a tabela com a conjunta completa (envolvendo a conjunção de todas as variáveis) para este problema:"
   ]
  },
  {
   "cell_type": "code",
   "execution_count": 16,
   "metadata": {},
   "outputs": [
    {
     "name": "stdout",
     "output_type": "stream",
     "text": [
      "+----------+-------+----------+-------------+------------------------+\n",
      "| Vacinada | Gripe |  Febre   | DoresCabeca |          Prob          |\n",
      "+----------+-------+----------+-------------+------------------------+\n",
      "|   True   |  True |   não    |     True    |        2.5e-07         |\n",
      "|   True   |  True |   não    |    False    |        2.5e-07         |\n",
      "|   True   |  True | moderada |     True    |        2.5e-07         |\n",
      "|   True   |  True | moderada |    False    |        2.5e-07         |\n",
      "|   True   |  True | elevada  |     True    |         5e-07          |\n",
      "|   True   |  True | elevada  |    False    |         5e-07          |\n",
      "|   True   | False |   não    |     True    | 2.9041799999999997e-05 |\n",
      "|   True   | False |   não    |    False    |      0.0009390182      |\n",
      "|   True   | False | moderada |     True    |       5.988e-07        |\n",
      "|   True   | False | moderada |    False    | 1.9361199999999997e-05 |\n",
      "|   True   | False | elevada  |     True    |       2.994e-07        |\n",
      "|   True   | False | elevada  |    False    | 9.680599999999998e-06  |\n",
      "|  False   |  True |   não    |     True    |       0.0024975        |\n",
      "|  False   |  True |   não    |    False    |       0.0024975        |\n",
      "|  False   |  True | moderada |     True    |       0.0024975        |\n",
      "|  False   |  True | moderada |    False    |       0.0024975        |\n",
      "|  False   |  True | elevada  |     True    |        0.004995        |\n",
      "|  False   |  True | elevada  |    False    |        0.004995        |\n",
      "|  False   | False |   não    |     True    |  0.028489481999999997  |\n",
      "|  False   | False |   não    |    False    |      0.921159918       |\n",
      "|  False   | False | moderada |     True    |      0.000587412       |\n",
      "|  False   | False | moderada |    False    |  0.018992988000000002  |\n",
      "|  False   | False | elevada  |     True    |      0.000293706       |\n",
      "|  False   | False | elevada  |    False    |  0.009496494000000001  |\n",
      "+----------+-------+----------+-------------+------------------------+\n"
     ]
    }
   ],
   "source": [
    "distribution_flu = joint_distribution(rb_gripe)\n",
    "display(distribution_flu)"
   ]
  },
  {
   "cell_type": "markdown",
   "metadata": {},
   "source": [
    "#### Exemplo de teste 3:\n",
    "\n",
    "<img src=\"imagens\\RedeBayesLimitesVelocidade.PNG\" alt=\"Drawing\" style=\"width: 550px;\"/>\n",
    "\n",
    "que é modelizado com esta rede de Bayes:\n",
    "\n",
    "<img src=\"imagens\\ResRedeBayesLimitesVelocidade.PNG\" alt=\"Drawing\" style=\"width: 650px;\"/>\n",
    "\n",
    "sendo:\n",
    "\n",
    "    P a variável correspondente a condutor com pressa (True,False)\n",
    "    V a variável correspondente à velocidade (v1, v2, v3)\n",
    "        v1 corresponde a velocidade < 120 km/h\n",
    "        v2 corresponde a velocidade entre 120km/h e 140km/h: [120,140]\n",
    "        v3 corresponde a velocidade > 140 km/h\n",
    "    M a variável correspondente a apanhar mult (True,False)\n",
    "    R a varável associada a ser detectado pelo radar (True,False)"
   ]
  },
  {
   "cell_type": "markdown",
   "metadata": {},
   "source": [
    "Como não se indica a probabilidade de os condutores terem pressa, vamos arranjar um valor para completar a rede: por exemplo, 60% dos condutores têm pressa."
   ]
  },
  {
   "cell_type": "code",
   "execution_count": 17,
   "metadata": {},
   "outputs": [],
   "source": [
    "rb_on_the_road = RedeBayes([\n",
    "            ('P', '', 0.60),\n",
    "            ('R', '', 0.20),\n",
    "            ('V', 'P', {T:{'v1':0.2, 'v2':0.5, 'v3':0.3},F:{'v1':0.6, 'v2':0.3,'v3':0.1}}),\n",
    "            ('M', 'V R', {('v1',T):0,('v2',T):0.6,('v3',T):0.9,('v1',F):0,('v2',F):0,('v3',F):0})])"
   ]
  },
  {
   "cell_type": "code",
   "execution_count": 18,
   "metadata": {},
   "outputs": [
    {
     "data": {
      "text/plain": [
       "{('v1', True): 0,\n",
       " ('v2', True): 0.6,\n",
       " ('v3', True): 0.9,\n",
       " ('v1', False): 0,\n",
       " ('v2', False): 0,\n",
       " ('v3', False): 0}"
      ]
     },
     "execution_count": 18,
     "metadata": {},
     "output_type": "execute_result"
    }
   ],
   "source": [
    "rb_on_the_road.variable_node('M').cpt"
   ]
  },
  {
   "cell_type": "code",
   "execution_count": 19,
   "metadata": {},
   "outputs": [
    {
     "name": "stdout",
     "output_type": "stream",
     "text": [
      "P(M|V,R):\n",
      "+----+-------+-------+---------------------+\n",
      "| V  |   R   |   M   |         Prob        |\n",
      "+----+-------+-------+---------------------+\n",
      "| v1 |  True |  True |          0          |\n",
      "| v1 |  True | False |          1          |\n",
      "| v2 |  True |  True |         0.6         |\n",
      "| v2 |  True | False |         0.4         |\n",
      "| v3 |  True |  True |         0.9         |\n",
      "| v3 |  True | False | 0.09999999999999998 |\n",
      "| v1 | False |  True |          0          |\n",
      "| v1 | False | False |          1          |\n",
      "| v2 | False |  True |          0          |\n",
      "| v2 | False | False |          1          |\n",
      "| v3 | False |  True |          0          |\n",
      "| v3 | False | False |          1          |\n",
      "+----+-------+-------+---------------------+\n"
     ]
    }
   ],
   "source": [
    "display_cpt(rb_on_the_road.variable_node('M'))"
   ]
  },
  {
   "cell_type": "code",
   "execution_count": 20,
   "metadata": {},
   "outputs": [
    {
     "data": {
      "text/plain": [
       "[True, False]"
      ]
     },
     "execution_count": 20,
     "metadata": {},
     "output_type": "execute_result"
    }
   ],
   "source": [
    "rb_on_the_road.variable_node('M').domain"
   ]
  },
  {
   "cell_type": "markdown",
   "metadata": {},
   "source": [
    "Revistemos a função `enumeration_ask`que faz uso da função `enumeration_all`: "
   ]
  },
  {
   "cell_type": "code",
   "execution_count": 21,
   "metadata": {},
   "outputs": [],
   "source": [
    "def enumeration_ask(X, e, bn):\n",
    "    \"\"\"\n",
    "    [Figure 14.9]\n",
    "    Return the conditional probability distribution of variable X\n",
    "    given evidence e, from BayesNet bn.\n",
    "    \"\"\"\n",
    "    assert X not in e, \"Query variable must be distinct from evidence\"\n",
    "    Q = ProbDist(X)\n",
    "    for xi in bn.variable_values(X):\n",
    "        Q[xi] = enumerate_all(bn.variables, extend(e, X, xi), bn)\n",
    "    return Q.normalize()\n",
    "\n",
    "\n",
    "def enumerate_all(variables, e, bn):\n",
    "    \"\"\"Return the sum of those entries in P(variables | e{others})\n",
    "    consistent with e, where P is the joint distribution represented\n",
    "    by bn, and e{others} means e restricted to bn's other variables\n",
    "    (the ones other than variables). Parents must precede children in variables.\"\"\"\n",
    "    if not variables:\n",
    "        return 1.0\n",
    "    Y, rest = variables[0], variables[1:]\n",
    "    Ynode = bn.variable_node(Y)\n",
    "    if Y in e:\n",
    "        return Ynode.p(e[Y], e) * enumerate_all(rest, e, bn)\n",
    "    else:\n",
    "        return sum(Ynode.p(y, e) * enumerate_all(rest, extend(e, Y, y), bn)\n",
    "                   for y in bn.variable_values(Y))"
   ]
  },
  {
   "cell_type": "markdown",
   "metadata": {},
   "source": [
    "Voltemos à rede burglary e perguntemos qual a distribuição deJohn probabilidade de o João telefonar"
   ]
  },
  {
   "cell_type": "code",
   "execution_count": 22,
   "metadata": {},
   "outputs": [
    {
     "data": {
      "text/plain": [
       "{True: 0.0836744585, False: 0.9163255414999999}"
      ]
     },
     "execution_count": 22,
     "metadata": {},
     "output_type": "execute_result"
    }
   ],
   "source": [
    "enumeration_ask('JohnCalls',{},rb_burglary).prob"
   ]
  },
  {
   "cell_type": "markdown",
   "metadata": {},
   "source": [
    "E se quisermos saber qual a probabilidade de haver um assalto se o João telefonar:"
   ]
  },
  {
   "cell_type": "code",
   "execution_count": 23,
   "metadata": {},
   "outputs": [
    {
     "data": {
      "text/plain": [
       "{True: 0.008377885110544218, False: 0.9916221148894558}"
      ]
     },
     "execution_count": 23,
     "metadata": {},
     "output_type": "execute_result"
    }
   ],
   "source": [
    "enumeration_ask('Burglary',{'JohnCalls':True},rb_burglary).prob"
   ]
  },
  {
   "cell_type": "markdown",
   "metadata": {},
   "source": [
    "E qual a distribuição de probabilidade condicional de `Alarm` dado que ambos telefonaram, Maria e João:"
   ]
  },
  {
   "cell_type": "code",
   "execution_count": 24,
   "metadata": {},
   "outputs": [
    {
     "data": {
      "text/plain": [
       "{True: 0.9811237377457541, False: 0.01887626225424589}"
      ]
     },
     "execution_count": 24,
     "metadata": {},
     "output_type": "execute_result"
    }
   ],
   "source": [
    "enumeration_ask('Alarm',{'JohnCalls':True,'MaryCalls':True},rb_burglary).prob"
   ]
  },
  {
   "cell_type": "markdown",
   "metadata": {},
   "source": [
    "E agora queremos saber qual a crença mais provável para uma determinada variável dada uma certa evidência."
   ]
  },
  {
   "cell_type": "code",
   "execution_count": 25,
   "metadata": {},
   "outputs": [],
   "source": [
    "#  a crença mais provável (refazer para lidar com empates)\n",
    "def keywithmaxval(d):\n",
    "    \"\"\" a) create a list of the dict's keys and values; \n",
    "        b) return the key with the max value\"\"\"  \n",
    "    v=list(d.values())\n",
    "    vmax=max(v)\n",
    "    max_keys=[k for k in list(d.keys()) if d[k]==vmax]\n",
    "    random.shuffle(max_keys)\n",
    "    return max_keys[0]\n",
    "\n",
    "def most_probable_belief(v,e,rede):\n",
    "    dist_fantasma=enumeration_ask(v, e, rede).prob\n",
    "    #print(dist_fantasma)\n",
    "    return keywithmaxval(dist_fantasma)"
   ]
  },
  {
   "cell_type": "markdown",
   "metadata": {},
   "source": [
    "E agora qual o valor de `Alarm` mais provável dado que ambos telefonaram?"
   ]
  },
  {
   "cell_type": "code",
   "execution_count": 26,
   "metadata": {},
   "outputs": [
    {
     "data": {
      "text/plain": [
       "True"
      ]
     },
     "execution_count": 26,
     "metadata": {},
     "output_type": "execute_result"
    }
   ],
   "source": [
    "most_probable_belief('Alarm',{'JohnCalls':True,'MaryCalls':True},rb_burglary)"
   ]
  },
  {
   "cell_type": "markdown",
   "metadata": {},
   "source": [
    "## Variáveis com elementos no domínio que são tuplos\n",
    "Notem que as `cpts` das Redes de Bayes na classe `BayesNode` são representadas por um dicionário e que o formato das chaves correspondem a tuplos com os valores das variáveis dos nós pais. Assim, existirá necessariamente um conflito se representarem os valores de uma variável com valores no seu domínio correspondentes, por exemplo, a tuplos com coordenadas $(L,C)$. Por exemplo, o tuplo $(1,1)$ na chave da cpt dessa variável, por exemplo, será interpretado como uma entrada de uma tabela com duas variáveis pais, ambas com o valor $1$.\n",
    "Assim, nesse caso, o domínio de uma variável $Posicao$ que indica a posição numa grelha dimensional, não deve ser formado por duplos mas strings com duplos:\n",
    "\n",
    "$Dom(Posicao)=\\{\\ '(1,1)\\ ',\\ '(1,2)\\ ',\\ '(1,3)\\ ',\\ '(1,4)\\ ',\\ '(2,1)\\ ',\\ '(2,2)\\ ',\\ '(2,3)\\ ',\\ '(2,4)\\ ',\\ '(3,1)\\ ',(3,2)\\ ',(3,3)\\ ',\\ '(3,4)\\ ',\\ '(4,1)\\ ',\\ '(4,2)\\ ',\\ '(4,3)\\ ',\\ '(4,4)\\ '\\}$"
   ]
  }
 ],
 "metadata": {
  "kernelspec": {
   "display_name": "Python 3",
   "language": "python",
   "name": "python3"
  },
  "language_info": {
   "codemirror_mode": {
    "name": "ipython",
    "version": 3
   },
   "file_extension": ".py",
   "mimetype": "text/x-python",
   "name": "python",
   "nbconvert_exporter": "python",
   "pygments_lexer": "ipython3",
   "version": "3.7.3"
  }
 },
 "nbformat": 4,
 "nbformat_minor": 2
}
